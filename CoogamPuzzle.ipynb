{
  "nbformat": 4,
  "nbformat_minor": 0,
  "metadata": {
    "colab": {
      "provenance": []
    },
    "kernelspec": {
      "name": "python3",
      "display_name": "Python 3"
    },
    "language_info": {
      "name": "python"
    }
  },
  "cells": [
    {
      "cell_type": "markdown",
      "source": [
        "우리는 x를 385길이의 2진 비트열로 만들었다.\n",
        "\n",
        "퍼즐의 모양의 변형이 적은 순서대로 퍼즐의 순서를 기입했다고 하자.\n"
      ],
      "metadata": {
        "id": "O02kPHrN9Y2f"
      }
    },
    {
      "cell_type": "code",
      "source": [
        "\n",
        "import sympy as sp\n",
        "import numpy as np\n",
        "\n",
        "# 우리는 x를 385길이의 2진 비트열로 만들었다.\n",
        "#\n",
        "# 퍼즐의 모양의 변형이 적은 순서대로 퍼즐의 순서를 기입했다고 하자.\n",
        "# 초록색 사각형을 첫번째 도형으로 삼고 나머지는 박성근이 그려준 그림의 순서를 따랐다.\n",
        "#\n",
        "\n",
        "'''\n",
        "input = x로 385 length binary list\n",
        "\n",
        "rotation이 0개 인 경우에는 비트수가 8개 : 이런 도형이 1가지\n",
        "rotation이 2개 인 경우에는 비트수가 9개 : 이런 도형이 2가지\n",
        "rotation이 4개 인 경우에는 비트수가 10개 : 이런 도형이 4가지\n",
        "rotation이 8개 인 경우에는 비트수가 11개 : 이런 도형이 1가지\n",
        "\n",
        "'''\n",
        "\n",
        "ex_str1 = \"0000000100000011100100010000110010011100100110010000010011100110111001111000011001110001100010010001010110101000011101000011000101000000110000010110010101010001011000000010010111110001010010011100010110000100101011001111101101111100110001110010011011100000001110100100111001100010000110001000100001010111011111100101000111000010000000000001101010001001010001100011010000011011010111011\"\n",
        "# ex_str =  \"0000 0001 0001 0100 0101 0010 0100 1100 0110 1001 0001 1110 0 0111 1110 0 0100 1010 0 0100 1000 1 1001 0010 1 0000 1100 1 0011 0111 1 0011 0000 0 0110 0110 0 1001 1011 1 0011 1100 00 0110 1011 01 0100 1001 01 0000 1000 00 0111 0101 11 0101 1110 10 0010 1000 01 0101 0111 10 0011 0011 11 0111 0011 11 0110 1100 11 0001 1011 11 0000 0110 11 0100 0100 11 1000 0101 10 1001 1110 10 0001 1100 01 1000 1000 11 0100 0101 01 0010 0010 00 0000 1110 011 0110 1010 001 000110010010000010011001110001011\"\n",
        "ex_str =  \"0000000100010100010100100100110001101001000111100011111100010010100010010001100100101000011001001101111001100000011001100100110111001111100001101101010100100101000010000001110101110101111010001010000101010111100011001111011100111101101100110001101111000001101101000100111000010110100111101000011100011000100011010001010100100010000000111001101101010001000110010010000010011001110001011\"\n",
        "# 위의 ex_str은 Denny 가 제시한 coogam 퍼즐을 우리의 인코딩 방식으로 인코딩 한것이다.\n",
        "\n",
        "# spliter function - 인코딩된 정보를 디코드 하기 위해 스플릿 진행\n",
        "pos_counts = {1:8, 2:9, 3:9, 4:10, 5:10, 6:10, 7:10, 8:11 }\n",
        "num_pieces = 5\n",
        "\n",
        "def spliter(x):\n",
        "  sub_strings = []\n",
        "  start_index = 0\n",
        "  for key in pos_counts:\n",
        "    for _ in range(num_pieces):\n",
        "      end_index = start_index + pos_counts[key]\n",
        "      if end_index <= len(x):\n",
        "          sub_strings.append(x[start_index:end_index])\n",
        "          start_index = end_index\n",
        "      else:\n",
        "        break  # 남은 문자열이 없으면 반복 중단\n",
        "    if start_index >=len(x):\n",
        "      break\n",
        "  return sub_strings\n",
        "\n",
        "# Decoder function - 인코드 데이터를 디코드 진행\n",
        "#  decoder 함수를 만들 것이다. spliter에 의해서 쪼개진 sub string에 대해서 key가 i,j,r인 딕셔너리를 만드는데 앞 4비트는 key가 i인것에 , 그다음 4비트는 key가 j인 것에로 넣고 남은 비트는 key가 r인 것에 넣도록하자. 만일 남는 비트가 없다면 그냥 0으로 넣자. 그리고 이때 이진수로 저장.\n",
        "def decoder(x):\n",
        "  splited_x = spliter(x)\n",
        "  decoded_list = []\n",
        "  for sub_str in splited_x:\n",
        "    decoded_dict = {}\n",
        "    decoded_dict['i'] = sub_str[:4]\n",
        "    decoded_dict['j'] = sub_str[4:8]\n",
        "    if len(sub_str) > 8:\n",
        "      decoded_dict['r'] = sub_str[8:]\n",
        "    else:\n",
        "      decoded_dict['r'] = \"0\"\n",
        "    decoded_list.append(decoded_dict)\n",
        "  return decoded_list\n"
      ],
      "metadata": {
        "id": "hCdaAYrePBie"
      },
      "execution_count": 59,
      "outputs": []
    },
    {
      "cell_type": "code",
      "source": [
        "decoder(ex_str) #디코드 결과 확인"
      ],
      "metadata": {
        "colab": {
          "base_uri": "https://localhost:8080/"
        },
        "id": "ugYKNFBiRmLo",
        "outputId": "49602d00-4523-4003-d9f8-fa2a3e6aec58"
      },
      "execution_count": 60,
      "outputs": [
        {
          "output_type": "execute_result",
          "data": {
            "text/plain": [
              "[{'i': '0000', 'j': '0001', 'r': '0'},\n",
              " {'i': '0001', 'j': '0100', 'r': '0'},\n",
              " {'i': '0101', 'j': '0010', 'r': '0'},\n",
              " {'i': '0100', 'j': '1100', 'r': '0'},\n",
              " {'i': '0110', 'j': '1001', 'r': '0'},\n",
              " {'i': '0001', 'j': '1110', 'r': '0'},\n",
              " {'i': '0111', 'j': '1110', 'r': '0'},\n",
              " {'i': '0100', 'j': '1010', 'r': '0'},\n",
              " {'i': '0100', 'j': '1000', 'r': '1'},\n",
              " {'i': '1001', 'j': '0010', 'r': '1'},\n",
              " {'i': '0000', 'j': '1100', 'r': '1'},\n",
              " {'i': '0011', 'j': '0111', 'r': '1'},\n",
              " {'i': '0011', 'j': '0000', 'r': '0'},\n",
              " {'i': '0110', 'j': '0110', 'r': '0'},\n",
              " {'i': '1001', 'j': '1011', 'r': '1'},\n",
              " {'i': '0011', 'j': '1110', 'r': '00'},\n",
              " {'i': '0110', 'j': '1101', 'r': '01'},\n",
              " {'i': '0100', 'j': '1001', 'r': '01'},\n",
              " {'i': '0000', 'j': '1000', 'r': '00'},\n",
              " {'i': '0111', 'j': '0101', 'r': '11'},\n",
              " {'i': '0101', 'j': '1110', 'r': '10'},\n",
              " {'i': '0010', 'j': '1000', 'r': '01'},\n",
              " {'i': '0101', 'j': '0111', 'r': '10'},\n",
              " {'i': '0011', 'j': '0011', 'r': '11'},\n",
              " {'i': '0111', 'j': '0011', 'r': '11'},\n",
              " {'i': '0110', 'j': '1100', 'r': '11'},\n",
              " {'i': '0001', 'j': '1011', 'r': '11'},\n",
              " {'i': '0000', 'j': '0110', 'r': '11'},\n",
              " {'i': '0100', 'j': '0100', 'r': '11'},\n",
              " {'i': '1000', 'j': '0101', 'r': '10'},\n",
              " {'i': '1001', 'j': '1110', 'r': '10'},\n",
              " {'i': '0001', 'j': '1100', 'r': '01'},\n",
              " {'i': '1000', 'j': '1000', 'r': '11'},\n",
              " {'i': '0100', 'j': '0101', 'r': '01'},\n",
              " {'i': '0010', 'j': '0010', 'r': '00'},\n",
              " {'i': '0000', 'j': '1110', 'r': '011'},\n",
              " {'i': '0110', 'j': '1010', 'r': '001'},\n",
              " {'i': '0001', 'j': '1001', 'r': '001'},\n",
              " {'i': '0000', 'j': '0100', 'r': '110'},\n",
              " {'i': '0111', 'j': '0001', 'r': '011'}]"
            ]
          },
          "metadata": {},
          "execution_count": 60
        }
      ]
    },
    {
      "cell_type": "code",
      "source": [
        "# decoder를 거쳐 나온 결과를 인풋으로 받는 coverage 함수를 만들것이야. 이때 decoder의 결과물의 인덱스 번호에 맞춰서 순서쌍들을 넣어서 출력하는 coverage 함수를 만들꺼야. 조건은 인덱스 번호의 특정 범위마다 그리고 그 조건 마다 r의 형태에 대한 조건을 추가로 달아서 모양에 따라 순서쌍들을 출력할 수 있도록 만들꺼야.\n",
        "\n",
        "# Coverage function\n",
        "# input은 무조건 decoder을 거쳐야만한다!!\n",
        "def coverage(decoded_pieces):\n",
        "  coverage_result = []\n",
        "  for k, decoded_piece in enumerate(decoded_pieces):\n",
        "    # 각 조각에 대한 정보를 decoded_piece에서 가져옵니다.\n",
        "    piece_i = int(decoded_piece['i'],2)\n",
        "    piece_j = int(decoded_piece['j'],2)\n",
        "    piece_r = decoded_piece['r']\n",
        "\n",
        "    # 조건문을 추가하여 각 조각의 인덱스(k)에 따라 다른 조건을 적용합니다.\n",
        "    if 0 <= k < 5:\n",
        "      # 첫 번째 조각에 대한 조건\n",
        "      if piece_r == \"0\":\n",
        "        coverage_result.extend([[(piece_i, piece_j), (piece_i, piece_j - 1), (piece_i + 1, piece_j), (piece_i + 1, piece_j - 1)]])\n",
        "\n",
        "    elif 5 <= k < 10:\n",
        "        # 두 번째 조각에 대한 조건\n",
        "      if piece_r == '0':\n",
        "        coverage_result.extend([[(piece_i, piece_j), (piece_i + 1, piece_j)]])\n",
        "      elif piece_r == '1':\n",
        "        coverage_result.extend([[(piece_i, piece_j), (piece_i, piece_j - 1)]])\n",
        "\n",
        "    elif 10 <= k < 15:\n",
        "        # 세 번째 조각에 대한 조건\n",
        "      if piece_r == '0':\n",
        "        coverage_result.extend([[(piece_i, piece_j), (piece_i + 1, piece_j), (piece_i + 2, piece_j), (piece_i + 3, piece_j)]])\n",
        "      elif piece_r == '1':\n",
        "        coverage_result.extend([[(piece_i, piece_j), (piece_i, piece_j - 1), (piece_i, piece_j - 2), (piece_i, piece_j - 3)]])\n",
        "\n",
        "    elif 15 <= k < 20:\n",
        "        # 4 번째 조각에 대한 조건\n",
        "      if piece_r == '00':\n",
        "        coverage_result.extend([[(piece_i, piece_j), (piece_i + 1, piece_j), (piece_i , piece_j-1)]])\n",
        "      elif piece_r == '01':\n",
        "        coverage_result.extend([[(piece_i, piece_j), (piece_i+1, piece_j), (piece_i + 1, piece_j-1)]])\n",
        "      elif piece_r == '10':\n",
        "        coverage_result.extend([[(piece_i, piece_j), (piece_i, piece_j - 1), (piece_i -1, piece_j-1)]])\n",
        "      elif piece_r == '11':\n",
        "        coverage_result.extend([[(piece_i, piece_j), (piece_i, piece_j - 1), (piece_i + 1, piece_j-1)]])\n",
        "\n",
        "    elif 20 <= k < 25:\n",
        "        # 5 번째 조각에 대한 조건\n",
        "      if piece_r == '00':\n",
        "        coverage_result.extend([[(piece_i, piece_j), (piece_i + 1, piece_j), (piece_i+1 , piece_j-1), (piece_i+2 , piece_j-1)]])\n",
        "      elif piece_r == '01':\n",
        "        coverage_result.extend([[(piece_i, piece_j), (piece_i, piece_j-1), (piece_i - 1, piece_j-1), (piece_i -1, piece_j-2)]])\n",
        "      elif piece_r == '10':\n",
        "        coverage_result.extend([[(piece_i, piece_j), (piece_i+1, piece_j), (piece_i, piece_j-1), (piece_i-1 , piece_j-1)]])\n",
        "      elif piece_r == '11':\n",
        "        coverage_result.extend([[(piece_i, piece_j), (piece_i, piece_j - 1), (piece_i + 1, piece_j-1), (piece_i+1 , piece_j-2)]])\n",
        "\n",
        "    elif 25 <= k < 30:\n",
        "        # 6 번째 조각에 대한 조건\n",
        "      if piece_r == '00':\n",
        "        coverage_result.extend([[(piece_i, piece_j), (piece_i + 1, piece_j), (piece_i , piece_j-1), (piece_i , piece_j-2), (piece_i+1 , piece_j-2)]])\n",
        "      elif piece_r == '01':\n",
        "        coverage_result.extend([[(piece_i, piece_j), (piece_i, piece_j-1), (piece_i +1, piece_j), (piece_i +2, piece_j), (piece_i+2 , piece_j-1)]])\n",
        "      elif piece_r == '10':\n",
        "        coverage_result.extend([[(piece_i, piece_j), (piece_i+1, piece_j), (piece_i+1, piece_j-1), (piece_i+1 , piece_j-2), (piece_i , piece_j-2)]])\n",
        "      elif piece_r == '11':\n",
        "        coverage_result.extend([[(piece_i, piece_j), (piece_i, piece_j - 1), (piece_i + 1, piece_j-1), (piece_i+2 , piece_j-1), (piece_i+2 , piece_j)]])\n",
        "    elif 30 <= k < 35:\n",
        "        # 7 번째 조각에 대한 조건\n",
        "      if piece_r == '00':\n",
        "        coverage_result.extend([[(piece_i, piece_j), (piece_i, piece_j-1), (piece_i+1 , piece_j-1), (piece_i , piece_j-2)]])\n",
        "      elif piece_r == '01':\n",
        "        coverage_result.extend([[(piece_i, piece_j), (piece_i+1, piece_j), (piece_i + 1, piece_j-1), (piece_i +2, piece_j)]])\n",
        "      elif piece_r == '10':\n",
        "        coverage_result.extend([[(piece_i, piece_j), (piece_i, piece_j-1), (piece_i, piece_j-2), (piece_i-1 , piece_j-1)]])\n",
        "      elif piece_r == '11':\n",
        "        coverage_result.extend([[(piece_i, piece_j), (piece_i, piece_j - 1), (piece_i + 1, piece_j-1), (piece_i-1 , piece_j-1)]])\n",
        "\n",
        "    elif 35 <= k < 40:\n",
        "        # 8 번째 조각에 대한 조건\n",
        "      if piece_r == '000':\n",
        "        coverage_result.extend([[(piece_i, piece_j), (piece_i+1, piece_j), (piece_i , piece_j-1), (piece_i , piece_j-2)]])\n",
        "      elif piece_r == '001':\n",
        "        coverage_result.extend([[(piece_i, piece_j), (piece_i+1, piece_j), (piece_i + 2, piece_j), (piece_i +2, piece_j-1)]])\n",
        "      elif piece_r == '010':\n",
        "        coverage_result.extend([[(piece_i, piece_j), (piece_i, piece_j-1), (piece_i, piece_j-2), (piece_i-1 , piece_j-2)]])\n",
        "      elif piece_r == '011':\n",
        "        coverage_result.extend([[(piece_i, piece_j), (piece_i, piece_j -1), (piece_i +1, piece_j-1), (piece_i+2 , piece_j-1)]])\n",
        "      elif piece_r == '100':\n",
        "        coverage_result.extend([[(piece_i, piece_j), (piece_i+1, piece_j), (piece_i+1 , piece_j-1), (piece_i+1, piece_j-2)]])\n",
        "      elif piece_r == '101':\n",
        "        coverage_result.extend([[(piece_i, piece_j), (piece_i, piece_j-1), (piece_i -1, piece_j-1), (piece_i -2, piece_j-1)]])\n",
        "      elif piece_r == '110':\n",
        "        coverage_result.extend([[(piece_i, piece_j), (piece_i, piece_j-1), (piece_i, piece_j-2), (piece_i+1 , piece_j-2)]])\n",
        "      elif piece_r == '111':\n",
        "        coverage_result.extend([[(piece_i, piece_j), (piece_i, piece_j - 1), (piece_i +1, piece_j), (piece_i +2 , piece_j)]])\n",
        "    else:\n",
        "      # 그 외의 조각들에 대한 기본 조건 (필요에 따라 수정)\n",
        "      coverage_result.append((piece_i, piece_j))\n",
        "      print(\"k is overflow now.\")\n",
        "\n",
        "  return coverage_result\n",
        "\n",
        "# 예시 사용 (decoder 함수의 출력을 입력으로 사용)\n",
        "decoded_result = decoder(ex_str)\n",
        "coverage_dict = coverage(decoded_result)\n",
        "coverage_dict\n"
      ],
      "metadata": {
        "colab": {
          "base_uri": "https://localhost:8080/"
        },
        "id": "K8BiPvQbU2Pc",
        "outputId": "76876554-cd85-4c4e-bb89-e3889c9fea7d"
      },
      "execution_count": 61,
      "outputs": [
        {
          "output_type": "execute_result",
          "data": {
            "text/plain": [
              "[[(0, 1), (0, 0), (1, 1), (1, 0)],\n",
              " [(1, 4), (1, 3), (2, 4), (2, 3)],\n",
              " [(5, 2), (5, 1), (6, 2), (6, 1)],\n",
              " [(4, 12), (4, 11), (5, 12), (5, 11)],\n",
              " [(6, 9), (6, 8), (7, 9), (7, 8)],\n",
              " [(1, 14), (2, 14)],\n",
              " [(7, 14), (8, 14)],\n",
              " [(4, 10), (5, 10)],\n",
              " [(4, 8), (4, 7)],\n",
              " [(9, 2), (9, 1)],\n",
              " [(0, 12), (0, 11), (0, 10), (0, 9)],\n",
              " [(3, 7), (3, 6), (3, 5), (3, 4)],\n",
              " [(3, 0), (4, 0), (5, 0), (6, 0)],\n",
              " [(6, 6), (7, 6), (8, 6), (9, 6)],\n",
              " [(9, 11), (9, 10), (9, 9), (9, 8)],\n",
              " [(3, 14), (4, 14), (3, 13)],\n",
              " [(6, 13), (7, 13), (7, 12)],\n",
              " [(4, 9), (5, 9), (5, 8)],\n",
              " [(0, 8), (1, 8), (0, 7)],\n",
              " [(7, 5), (7, 4), (8, 4)],\n",
              " [(5, 14), (6, 14), (5, 13), (4, 13)],\n",
              " [(2, 8), (2, 7), (1, 7), (1, 6)],\n",
              " [(5, 7), (6, 7), (5, 6), (4, 6)],\n",
              " [(3, 3), (3, 2), (4, 2), (4, 1)],\n",
              " [(7, 3), (7, 2), (8, 2), (8, 1)],\n",
              " [(6, 12), (6, 11), (7, 11), (8, 11), (8, 12)],\n",
              " [(1, 11), (1, 10), (2, 10), (3, 10), (3, 11)],\n",
              " [(0, 6), (0, 5), (1, 5), (2, 5), (2, 6)],\n",
              " [(4, 4), (4, 3), (5, 3), (6, 3), (6, 4)],\n",
              " [(8, 5), (9, 5), (9, 4), (9, 3), (8, 3)],\n",
              " [(9, 14), (9, 13), (9, 12), (8, 13)],\n",
              " [(1, 12), (2, 12), (2, 11), (3, 12)],\n",
              " [(8, 8), (8, 7), (9, 7), (7, 7)],\n",
              " [(4, 5), (5, 5), (5, 4), (6, 5)],\n",
              " [(2, 2), (2, 1), (3, 1), (2, 0)],\n",
              " [(0, 14), (0, 13), (1, 13), (2, 13)],\n",
              " [(6, 10), (7, 10), (8, 10), (8, 9)],\n",
              " [(1, 9), (2, 9), (3, 9), (3, 8)],\n",
              " [(0, 4), (0, 3), (0, 2), (1, 2)],\n",
              " [(7, 1), (7, 0), (8, 0), (9, 0)]]"
            ]
          },
          "metadata": {},
          "execution_count": 61
        }
      ]
    },
    {
      "cell_type": "code",
      "source": [
        "# grid def\n",
        "grid_width = 10\n",
        "grid_height =15\n",
        "grid_cells = [(u,v) for u  in range(grid_width) for v in range(grid_height)]\n",
        "\n",
        "#coverage\n",
        "coverage_penalty_expr = 0\n",
        "for c in grid_cells:\n",
        "  cell_sum =0\n",
        "  for k, _ in enumerate(coverage_dict):\n",
        "    if c in coverage_dict[k]:\n",
        "      cell_sum +=1\n",
        "  coverage_penalty_expr += (cell_sum-1)**2\n",
        "  if (cell_sum != 1):\n",
        "    print(f\"겹치는 좌표는{c}\")\n",
        "\n",
        "coverage_penalty_expr\n",
        "\n"
      ],
      "metadata": {
        "colab": {
          "base_uri": "https://localhost:8080/"
        },
        "id": "xIPIFJoUogL8",
        "outputId": "b5423903-0af4-44cb-dcb0-f0775bd3d992"
      },
      "execution_count": 62,
      "outputs": [
        {
          "output_type": "execute_result",
          "data": {
            "text/plain": [
              "0"
            ]
          },
          "metadata": {},
          "execution_count": 62
        }
      ]
    },
    {
      "cell_type": "code",
      "source": [
        "\n",
        "# boundary penalty\n",
        "\n",
        "boundary_penalty_expr = 0\n",
        "for cell_list in coverage_dict:\n",
        "  for cell in cell_list:\n",
        "    i_cell, j_cell = cell\n",
        "    if (i_cell < 0) or (i_cell >= grid_width) or (j_cell < 0) or (j_cell >= grid_height):\n",
        "      boundary_penalty_expr += 1\n",
        "\n",
        "boundary_penalty_expr\n"
      ],
      "metadata": {
        "colab": {
          "base_uri": "https://localhost:8080/"
        },
        "id": "9T8Q7sikd_tm",
        "outputId": "d33208b4-9eee-474c-b1a6-eb6182743359"
      },
      "execution_count": 63,
      "outputs": [
        {
          "output_type": "execute_result",
          "data": {
            "text/plain": [
              "0"
            ]
          },
          "metadata": {},
          "execution_count": 63
        }
      ]
    }
  ]
}